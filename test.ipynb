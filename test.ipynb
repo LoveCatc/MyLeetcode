{
 "cells": [
  {
   "cell_type": "code",
   "execution_count": 2,
   "metadata": {},
   "outputs": [
    {
     "name": "stdout",
     "output_type": "stream",
     "text": [
      "apple\n"
     ]
    }
   ],
   "source": [
    "a = \"apple\"\n",
    "print(a[0:5])"
   ]
  },
  {
   "cell_type": "code",
   "execution_count": 1,
   "metadata": {},
   "outputs": [],
   "source": [
    "i = 2\n",
    "if i == 1:\n",
    "    print(1)\n",
    "elif i == 3:\n",
    "    print(3)"
   ]
  },
  {
   "cell_type": "code",
   "execution_count": null,
   "metadata": {},
   "outputs": [],
   "source": [
    "def levelTrav(root):\n",
    "    q = [root, ]\n",
    "    rslt = []\n",
    "    while q:\n",
    "        cur = q.pop()\n",
    "        rslt.append(cur)\n",
    "        if cur.left is not None:\n",
    "            q.append(cur.left)\n",
    "        if cur.right is not None:\n",
    "            q.append(cur.right)\n",
    "    return rslt"
   ]
  }
 ],
 "metadata": {
  "kernelspec": {
   "display_name": "cartopy",
   "language": "python",
   "name": "python3"
  },
  "language_info": {
   "codemirror_mode": {
    "name": "ipython",
    "version": 3
   },
   "file_extension": ".py",
   "mimetype": "text/x-python",
   "name": "python",
   "nbconvert_exporter": "python",
   "pygments_lexer": "ipython3",
   "version": "3.8.13"
  },
  "orig_nbformat": 4,
  "vscode": {
   "interpreter": {
    "hash": "1491e21ded83cb692c2e531cdf46e51a819057b164207a669ae3240ead6c1da5"
   }
  }
 },
 "nbformat": 4,
 "nbformat_minor": 2
}
